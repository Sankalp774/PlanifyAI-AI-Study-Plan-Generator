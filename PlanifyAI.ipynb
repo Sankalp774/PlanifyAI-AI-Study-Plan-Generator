# Study Plan Generator for Google Colab with Gradio Interface


# Install required dependencies
!pip install transformers PyMuPDF python-docx python-pptx scikit-learn spacy apscheduler pytz gradio
!python -m spacy download en_core_web_sm

import os
import smtplib
import datetime
import pytz
from email.mime.multipart import MIMEMultipart
from email.mime.text import MIMEText
import fitz  # PyMuPDF
import docx
from pptx import Presentation
from transformers import pipeline
from sklearn.feature_extraction.text import TfidfVectorizer
from sklearn.metrics.pairwise import cosine_similarity
import spacy
import re
import pandas as pd
from google.colab import files, output, drive
import IPython.display as display
import time
from apscheduler.schedulers.background import BackgroundScheduler
import threading
import json
import tempfile
import gradio as gr

# Initialize models
print("Loading models (this may take a minute)...")
summarizer = pipeline("summarization", model="facebook/bart-large-cnn")
qg_model = pipeline("text2text-generation", model="google/flan-t5-large")
nlp = spacy.load("en_core_web_sm")
print(" Models loaded successfully!")

# Initialize global variables for storing user data and scheduler
USER_DB_FILE = "user_database.json"
SCHEDULER = None
EMAIL_CREDENTIALS = {
    "email": "",
    "password": ""
}

class StudyPlanManager:
    def _init_(self):
        self.users = {}
        self.pending_emails = []
        self.load_users()

    def load_users(self):
        """Load users from JSON file or create empty database"""
        try:
            if os.path.exists(USER_DB_FILE):
                with open(USER_DB_FILE, 'r') as f:
                    self.users = json.load(f)
                print(f"Loaded {len(self.users)} user(s) from database")
        except Exception as e:
            print(f"Could not load user database: {str(e)}")
            self.users = {}

    def save_users(self):
        """Save users to JSON file"""
        try:
            with open(USER_DB_FILE, 'w') as f:
                json.dump(self.users, f)
        except Exception as e:
            print(f"Could not save user database: {str(e)}")

    def add_user(self, email, name=None, timezone="UTC"):
        """Add a new user to the database"""
        if email in self.users:
            print(f"User {email} already exists")
            return False

        self.users[email] = {
            "name": name or email.split("@")[0],
            "email": email,
            "timezone": timezone,
            "created_at": datetime.datetime.now().isoformat(),
            "last_study_plan": None
        }
        self.save_users()
        print(f" User {email} added to database")
        return True

    def schedule_end_of_day_email(self, summary, plan, questions):
        """Schedule emails to be sent at the end of the day for all users"""
        if not self.users:
            print("⚠ No registered users to send emails to")
            return False

        # Calculate end of day time (5 PM) for each user based on timezone
        now = datetime.datetime.now(pytz.UTC)

        for email, user_data in self.users.items():
            try:
                user_tz = pytz.timezone(user_data.get("timezone", "UTC"))
                user_local_time = now.astimezone(user_tz)

                # Set target time to 5 PM today in user's timezone
                target_time = user_local_time.replace(
                    hour=17, minute=0, second=0, microsecond=0
                )

                # If it's already past 5 PM, schedule for next day
                if user_local_time > target_time:
                    target_time = target_time + datetime.timedelta(days=1)

                # Convert back to UTC for scheduler
                target_time_utc = target_time.astimezone(pytz.UTC)

                # Store email content
                email_content = format_plan_for_email(
                    summary, plan, questions,
                    user_name=user_data.get("name")
                )

                # Add to pending emails
                self.pending_emails.append({
                    "email": email,
                    "subject": "Your AI-Generated Study Plan",
                    "content": email_content,
                    "scheduled_time": target_time_utc.isoformat()
                })

                # Update user's last study plan
                self.users[email]["last_study_plan"] = now.isoformat()

                print(f" Scheduled email for {email} at {target_time.strftime('%H:%M')} "
                      f"({user_data.get('timezone', 'UTC')})")

            except Exception as e:
                print(f" Error scheduling email for {email}: {str(e)}")

        self.save_users()
        return True

    def process_pending_emails(self):
        """Process any pending emails that are due"""
        now = datetime.datetime.now(pytz.UTC)
        emails_to_send = []

        for pending in self.pending_emails[:]:
            scheduled_time = datetime.datetime.fromisoformat(pending["scheduled_time"])
            if scheduled_time <= now:
                emails_to_send.append(pending)
                self.pending_emails.remove(pending)

        if emails_to_send:
            print(f"Sending {len(emails_to_send)} scheduled email(s)...")

            for email_data in emails_to_send:
                success = send_email(
                    email_data["email"],
                    email_data["subject"],
                    email_data["content"]
                )

                if success:
                    print(f" Sent scheduled email to {email_data['email']}")
                else:
                    # If sending fails, put back in queue for retry
                    self.pending_emails.append(email_data)
                    print(f" Failed to send scheduled email to {email_data['email']}")

            print(f" Scheduled email processing complete. {len(self.pending_emails)} emails pending.")

def extract_text(file_path):
    ext = file_path.split(".")[-1].lower()
    text = ""

    try:
        if ext == "pdf":
            with fitz.open(file_path) as doc:
                for page in doc:
                    text += page.get_text()
        elif ext == "docx":
            doc_file = docx.Document(file_path)
            text = "\n".join([para.text for para in doc_file.paragraphs])
        elif ext == "pptx":
            prs = Presentation(file_path)
            for slide in prs.slides:
                for shape in slide.shapes:
                    if hasattr(shape, "text"):
                        text += shape.text + "\n"
        elif ext == "txt":
            with open(file_path, "r", encoding="utf-8", errors="ignore") as f:
                text = f.read()
        else:
            raise ValueError("Unsupported file type.")
    except Exception as e:
        print(f"Error extracting text: {str(e)}")

    return text

def split_sentences(text):
    doc = nlp(text)
    return [sent.text.strip() for sent in doc.sents if len(sent.text.strip()) > 30]

def summarize_text(text, max_chunk=1000):
    print("Summarizing document...")
    sentences = split_sentences(text)
    chunks, chunk = [], ""
    for sent in sentences:
        if len(chunk) + len(sent) <= max_chunk:
            chunk += " " + sent
        else:
            chunks.append(chunk.strip())
            chunk = sent
    if chunk:
        chunks.append(chunk.strip())

    summary = ""
    for i, chunk in enumerate(chunks):
        print(f"Processing chunk {i+1}/{len(chunks)}...")
        result = summarizer(chunk, max_length=130, min_length=30, do_sample=False)
        summary += result[0]['summary_text'] + " "

    print(" Summary complete!")
    return summary.strip()

def create_study_plan(summary_text, days):
    print(f"Creating {days}-day study plan...")
    sentences = split_sentences(summary_text)
    if len(sentences) < days:
        days = len(sentences)
        print(f"Note: Adjusted to {days} days based on content length")

    vectorizer = TfidfVectorizer()
    tfidf_matrix = vectorizer.fit_transform(sentences)
    scores = tfidf_matrix.sum(axis=1).A1

    ranked = sorted(zip(scores, sentences), reverse=True)
    plan = {f"Day {i+1}": [] for i in range(days)}

    for i, (_, sent) in enumerate(ranked):
        plan[f"Day {(i % days)+1}"].append(sent)

    print(" Study plan created!")
    return plan

def generate_questions_from_topic(text, topic, num_qs):
    print(f"Generating questions about '{topic}'...")
    if topic.lower() not in text.lower():
        return [f" Topic '{topic}' not found in the document."]

    idx = text.lower().find(topic.lower())
    start = max(0, idx - 600)
    end = idx + 600
    context = text[start:end]

    prompt = (
        f"Generate {num_qs} distinct and relevant questions about the topic '{topic}'. "
        f"Format:\n1. ...?\n2. ...?\n\nStudy Material:\n{context.strip()}"
    )

    result = qg_model(prompt, max_length=1024, do_sample=False)[0]['generated_text']
    lines = result.strip().split("\n")
    questions = []

    for line in lines:
        match = re.match(r"\s*\d+[\).:-]?\s*(.+?\?)", line)
        if match:
            questions.append(match.group(1).strip())

    # Fallback
    if len(questions) < num_qs:
        alt = [l.strip() for l in lines if "?" in l and len(l.strip()) > 10]
        for q in alt:
            if q not in questions:
                questions.append(q)

    # Remove duplicates
    def remove_duplicates(q_list, threshold=0.8):
        unique = []
        if len(q_list) == 0:
            return unique
        vectorizer = TfidfVectorizer().fit_transform(q_list)
        sim_matrix = cosine_similarity(vectorizer)
        used = set()
        for i in range(len(q_list)):
            if i in used:
                continue
            unique.append(q_list[i])
            for j in range(i + 1, len(q_list)):
                if sim_matrix[i][j] > threshold:
                    used.add(j)
        return unique

    questions = remove_duplicates(questions)

    while len(questions) < num_qs:
        questions.append(f"⚠ Could not generate question {len(questions)+1}.")

    print(f" Generated {len(questions)} questions!")
    return questions[:num_qs]

def get_potential_topics(text):
    """Extract potential topics from the text using NLP"""
    doc = nlp(text)
    topics = [ent.text for ent in doc.ents if ent.label_ in ["ORG", "PERSON", "GPE", "LOC", "PRODUCT", "EVENT", "WORK_OF_ART"]]
    topics.extend([chunk.text for chunk in doc.noun_chunks if len(chunk.text.split()) > 1])

    # Remove duplicates and sort by length
    unique_topics = list(set(topics))
    return sorted(unique_topics, key=len, reverse=True)[:15]  # Return top 15 topics

def setup_email_credentials(email, password):
    """Set up email credentials for sending notifications"""
    global EMAIL_CREDENTIALS

    EMAIL_CREDENTIALS["email"] = email
    EMAIL_CREDENTIALS["password"] = password

    # Test the credentials
    try:
        server = smtplib.SMTP('smtp.gmail.com', 587)
        server.starttls()
        server.login(EMAIL_CREDENTIALS["email"], EMAIL_CREDENTIALS["password"])
        server.quit()
        print(" Email credentials verified successfully!")
        return True, "Email credentials verified successfully!"
    except Exception as e:
        error_msg = f"Email credential verification failed: {str(e)}"
        print(f" {error_msg}")
        if "gmail" in EMAIL_CREDENTIALS["email"].lower():
            print("Note: For Gmail, you need to use an App Password, not your regular password.")
            print("Learn more: https://support.google.com/accounts/answer/185833")
        EMAIL_CREDENTIALS["email"] = ""
        EMAIL_CREDENTIALS["password"] = ""
        return False, error_msg

def send_email(recipient, subject, content):
    """Send an email with the study plan"""
    global EMAIL_CREDENTIALS

    if not EMAIL_CREDENTIALS["email"] or not EMAIL_CREDENTIALS["password"]:
        print(" Email credentials not set. Cannot send email.")
        return False

    try:
        msg = MIMEMultipart()
        msg['From'] = EMAIL_CREDENTIALS["email"]
        msg['To'] = recipient
        msg['Subject'] = subject

        msg.attach(MIMEText(content, 'html'))

        server = smtplib.SMTP('smtp.gmail.com', 587)
        server.starttls()
        server.login(EMAIL_CREDENTIALS["email"], EMAIL_CREDENTIALS["password"])
        server.send_message(msg)
        server.quit()
        return True
    except Exception as e:
        print(f"Failed to send email: {str(e)}")
        return False

def format_plan_for_email(summary, plan, questions=None, user_name=None):
    """Format the study plan for email"""
    greeting = f"Hi {user_name}," if user_name else "Hello,"

    html_content = f"""
    <html>
    <head>
        <style>
            body {{ font-family: Arial, sans-serif; line-height: 1.6; }}
            .container {{ max-width: 800px; margin: 0 auto; padding: 20px; }}
            h1 {{ color: #4CAF50; }}
            h2 {{ color: #2196F3; margin-top: 30px; }}
            .day {{ background-color: #f9f9f9; padding: 15px; margin-bottom: 20px; border-left: 5px solid #2196F3; }}
            .questions {{ background-color: #f9f9f9; padding: 15px; margin-top: 30px; border-left: 5px solid #FF9800; }}
        </style>
    </head>
    <body>
        <div class="container">
            <h1>Your Personalized Study Plan</h1>
            <p>{greeting}</p>
            <p>Here's your personalized study plan based on the document you uploaded.</p>

            <h2>Document Summary</h2>
            <p>{summary}</p>

            <h2>Study Plan</h2>
    """

    for day, items in plan.items():
        html_content += f"<div class='day'><h3>{day}</h3><ol>"
        for item in items:
            html_content += f"<li>{item}</li>"
        html_content += "</ol></div>"

    if questions:
        html_content += "<div class='questions'><h2>Practice Questions</h2><ol>"
        for q in questions:
            html_content += f"<li>{q}</li>"
        html_content += "</ol></div>"

    html_content += """
            <p>Happy studying!</p>
            <p>Generated by AI Study Planner</p>
        </div>
    </body>
    </html>
    """

    return html_content

def save_to_drive(summary, plan, questions=None):
    """Save the study plan to Google Drive"""
    try:
        # Mount Google Drive
        drive.mount('/content/drive')

        # Create directory if it doesn't exist
        save_dir = '/content/drive/MyDrive/AI_Study_Plans'
        if not os.path.exists(save_dir):
            os.makedirs(save_dir)

        # Create a filename with timestamp
        timestamp = time.strftime("%Y%m%d-%H%M%S")
        filename = f"{save_dir}/study_plan_{timestamp}.txt"

        # Format content
        content = "# YOUR PERSONALIZED STUDY PLAN\n\n"
        content += "## DOCUMENT SUMMARY\n\n"
        content += summary + "\n\n"
        content += "## STUDY PLAN\n\n"

        for day, items in plan.items():
            content += f"### {day}\n\n"
            for i, item in enumerate(items, 1):
                content += f"{i}. {item}\n"
            content += "\n"

        if questions:
            content += "## PRACTICE QUESTIONS\n\n"
            for i, q in enumerate(questions, 1):
                content += f"{i}. {q}\n"

        # Write to file
        with open(filename, 'w', encoding='utf-8') as f:
            f.write(content)

        print(f" Study plan saved to Google Drive: {filename}")
        return True, f"Study plan saved to Google Drive: {filename}"
    except Exception as e:
        error_msg = f"Failed to save to Drive: {str(e)}"
        print(f" {error_msg}")
        return False, error_msg

def setup_email_scheduler():
    """Set up the scheduler for sending emails at end of day"""
    global SCHEDULER

    if SCHEDULER is None:
        SCHEDULER = BackgroundScheduler()
        SCHEDULER.start()

        # Add a job to check for pending emails every minute
        def check_pending_emails():
            study_plan_manager.process_pending_emails()

        SCHEDULER.add_job(check_pending_emails, 'interval', minutes=1)
        print(" Email scheduler initialized")

def run_demo():
    """Run a demo with sample content"""
    demo_text = """
    # Introduction to Machine Learning

    Machine learning is a field of study that gives computers the ability to learn without being explicitly programmed. It is a branch of artificial intelligence based on the idea that systems can learn from data, identify patterns and make decisions with minimal human intervention.

    ## Types of Machine Learning

    There are three main types of machine learning: supervised learning, unsupervised learning, and reinforcement learning.

    ### Supervised Learning

    In supervised learning, the algorithm is trained on labeled data. This means that each training example is paired with an output label. The algorithm learns to predict the output from the input data. Examples of supervised learning include classification and regression problems.

    ### Unsupervised Learning

    In unsupervised learning, the algorithm is trained on unlabeled data. The algorithm learns to identify patterns and relationships in the input data without the help of output labels. Examples of unsupervised learning include clustering and dimensionality reduction.

    ### Reinforcement Learning

    In reinforcement learning, the algorithm learns by interacting with an environment. The algorithm receives feedback in the form of rewards or penalties as it navigates the environment. The goal is to learn a strategy that maximizes the total reward.

    ## Applications of Machine Learning

    Machine learning has numerous applications across various industries. Some of the most common applications include:

    1. *Healthcare*: Disease diagnosis, patient monitoring, drug discovery
    2. *Finance*: Fraud detection, risk assessment, algorithmic trading
    3. *Retail*: Recommendation systems, demand forecasting, customer segmentation
    4. *Transportation*: Autonomous vehicles, traffic prediction, route optimization

    ## Challenges and Future Directions

    Despite its successes, machine learning still faces several challenges. These include the need for large amounts of high-quality data, the interpretability of complex models, and ethical considerations such as bias and privacy.

    Future directions in machine learning include the development of more efficient algorithms, the integration of machine learning with other fields such as neuroscience and quantum computing, and the creation of more transparent and ethical AI systems.
    """

    print(" Running demo with sample Machine Learning content...")

    # Process the demo text
    summary = summarize_text(demo_text)
    plan = create_study_plan(summary, 5)

    # Get suggested topics
    topics = get_potential_topics(summary)

    # Generate default questions about Machine Learning
    questions = generate_questions_from_topic(demo_text, "Machine Learning", 3)

    return summary, plan, questions, topics, demo_text

# Create study plan manager
study_plan_manager = StudyPlanManager()
setup_email_scheduler()

# Format study plan as markdown for display
def format_study_plan_markdown(summary, plan, questions=None):
    markdown = "## Document Summary\n\n"
    markdown += summary + "\n\n"
    markdown += "## Study Plan\n\n"

    for day, items in plan.items():
        markdown += f"### {day}\n\n"
        for i, item in enumerate(items, 1):
            markdown += f"{i}. {item}\n"
        markdown += "\n"

    if questions:
        markdown += "## Practice Questions\n\n"
        for i, q in enumerate(questions, 1):
            markdown += f"{i}. {q}\n"

    return markdown

# Create a temporary directory to store uploaded files
temp_dir = tempfile.mkdtemp()

# Store global state for Gradio app
class AppState:
    def _init_(self):
        self.raw_text = ""
        self.summary = ""
        self.plan = {}
        self.questions = []
        self.topics = []
        self.email_setup = False
        self.drive_mounted = False

app_state = AppState()

# Gradio functions
def process_upload(file_obj):
    if file_obj is None:
        return "Please upload a file."

    file_path = os.path.join(temp_dir, file_obj.name)
    with open(file_path, 'wb') as f:
        f.write(file_obj.read())

    app_state.raw_text = extract_text(file_path)
    if len(app_state.raw_text) < 50:
        return "Could not extract sufficient text from the document. Please try another file."

    return f" Text extracted successfully ({len(app_state.raw_text)} characters). Ready to process."

def generate_plan(days):
    if not app_state.raw_text:
        return "Please upload a document first."

    if not days or days < 1:
        days = 5  # Default

    days = min(max(int(days), 1), 14)  # Bound between 1 and 14

    app_state.summary = summarize_text(app_state.raw_text)
    app_state.plan = create_study_plan(app_state.summary, days)
    app_state.topics = get_potential_topics(app_state.summary)

    formatted_plan = format_study_plan_markdown(app_state.summary, app_state.plan)

    topic_options = [{"label": topic, "value": topic} for topic in app_state.topics[:10]]

    return formatted_plan, topic_options

def generate_questions(topic, num_questions):
    if not app_state.raw_text or not app_state.summary:
        return "Please generate a study plan first."

    if not topic:
        if app_state.topics:
            topic = app_state.topics[0]
        else:
            return "Please enter a topic for questions."

    if not num_questions or num_questions < 1:
        num_questions = 3  # Default

    num_questions = min(max(int(num_questions), 1), 10)  # Bound between 1 and 10

    app_state.questions = generate_questions_from_topic(app_state.raw_text, topic, num_questions)

    return format_study_plan_markdown(app_state.summary, app_state.plan, app_state.questions)

def setup_email(email, password):
    if not email or not password:
        return "Please enter both email and password."

    success, message = setup_email_credentials(email, password)
    app_state.email_setup = success

    if success:
        return " " + message
    else:
        return " " + message

def register_user(name, email, timezone):
    if not app_state.email_setup:
        return "Please set up email credentials first."

    if not email:
        return "Please enter an email address."

    success = study_plan_manager.add_user(email, name, timezone)

    if success:
        return f" User {email} registered successfully. Study plans will be delivered at 5 PM {timezone}."
    else:
        return f"User {email} already exists in the database."

def schedule_email():
    if not app_state.email_setup:
        return "Please set up email credentials first."

    if not app_state.summary or not app_state.plan:
        return "Please generate a study plan first."

    if len(study_plan_manager.users) == 0:
        return "No registered users. Please register at least one user first."

    study_plan_manager.schedule_end_of_day_email(app_state.summary, app_state.plan, app_state.questions)

    return " Emails scheduled successfully. They will be sent at 5 PM in each user's timezone."

def send_immediate_email(recipient):
    if not app_state.email_setup:
        return "Please set up email credentials first."

    if not app_state.summary or not app_state.plan:
        return "Please generate a study plan first."

    if not recipient:
        return "Please enter a recipient email address."

    email_content = format_plan_for_email(app_state.summary, app_state.plan, app_state.questions)
    success = send_email(recipient, "Your AI-Generated Study Plan", email_content)

    if success:
        return f" Study plan sent immediately to {recipient}!"
    else:
        return f" Failed to send email to {recipient}. Please check the email address and try again."

def save_to_google_drive():
    if not app_state.summary or not app_state.plan:
        return "Please generate a study plan first."

    success, message = save_to_drive(app_state.summary, app_state.plan, app_state.questions)

    if success:
        app_state.drive_mounted = True
        return " " + message
    else:
        return " " + message

def load_demo():
    summary, plan, questions, topics, raw_text = run_demo()

    app_state.raw_text = raw_text
    app_state.summary = summary
    app_state.plan = plan
    app_state.questions = questions
    app_state.topics = topics

    formatted_plan = format_study_plan_markdown(summary, plan, questions)
    topic_options = [{"label": topic, "value": topic} for topic in topics[:10]]

    return " Demo loaded successfully!", formatted_plan, topic_options

# Mount Google Drive at start (optional)
try:
    drive.mount('/content/drive', force_remount=True)
    app_state.drive_mounted = True
    print(" Google Drive mounted successfully.")
except:
    print("Note: Google Drive not mounted. You can mount it later when saving files.")

# Create the Gradio interface
with gr.Blocks(title="AI Study Plan Generator", theme=gr.themes.Base()) as app:
    gr.Markdown("#  AI Study Plan Generator with Email Scheduling")
    gr.Markdown("Upload a document, generate a personalized study plan, and receive it by email!")

    with gr.Tabs():
        with gr.TabItem("1. Document Upload"):
            with gr.Row():
                with gr.Column():
                    file_input = gr.File(label="Upload Document (PDF, DOCX, PPTX, or TXT)")
                    upload_button = gr.Button("Process Document", variant="primary")
                    demo_button = gr.Button("Load Demo Content")
                    upload_output = gr.Textbox(label="Upload Status")

        with gr.TabItem("2. Generate Study Plan"):
            with gr.Row():
                with gr.Column(scale=1):
                    days_input = gr.Number(label="Number of Study Days (1-14)", value=5, minimum=1, maximum=14, step=1)
                    generate_button = gr.Button("Generate Study Plan", variant="primary")
                with gr.Column(scale=3):
                    plan_output = gr.Markdown(label="Generated Study Plan")
                    topic_dropdown = gr.Dropdown(label="Select Topic for Questions", choices=[], allow_custom_value=True)

            with gr.Row():
                questions_count = gr.Number(label="Number of Questions (1-10)", value=3, minimum=1, maximum=10, step=1)
                questions_button = gr.Button("Generate Questions", variant="primary")

        with gr.TabItem("3. Email Setup"):
            with gr.Row():
                with gr.Column():
                    gr.Markdown("### Set Up Email Credentials")
                    gr.Markdown("Note: For Gmail, you need to use an App Password. [Learn more](https://support.google.com/accounts/answer/185833)")

                    email_input = gr.Textbox(label="Your Email Address")
                    password_input = gr.Textbox(label="Your Email Password/App Password", type="password")
                    email_setup_button = gr.Button("Verify Email Credentials", variant="primary")
                    email_status = gr.Textbox(label="Email Status")

            with gr.Row():
                with gr.Column():
                    gr.Markdown("### Register User for Scheduled Emails")
                    name_input = gr.Textbox(label="Your Name")
                    user_email_input = gr.Textbox(label="Your Email Address")
                    timezone_input = gr.Dropdown(
                        label="Your Timezone",
                        choices=["US/Eastern", "US/Central", "US/Pacific", "Europe/London", "Asia/Tokyo", "Australia/Sydney", "UTC"],
                        value="UTC"
                    )
                    register_button = gr.Button("Register User", variant="primary")
                    register_status = gr.Textbox(label="Registration Status")

            with gr.TabItem("4. Send & Save"):
              with gr.Row():
                with gr.Column():
                    gr.Markdown("### Schedule End-of-Day Emails")
                    gr.Markdown("Scheduled emails will be sent at 5 PM in each user's timezone")
                    schedule_button = gr.Button("Schedule Email for All Users", variant="primary")
                    schedule_status = gr.Textbox(label="Schedule Status")

                with gr.Column():
                    gr.Markdown("### Send Immediate Email")
                    recipient_input = gr.Textbox(label="Recipient Email Address")
                    send_now_button = gr.Button("Send Email Now", variant="primary")
                    send_status = gr.Textbox(label="Send Status")

            with gr.Row():
                with gr.Column():
                    gr.Markdown("### Save to Google Drive")
                    save_drive_button = gr.Button("Save to Google Drive", variant="primary")
                    drive_status = gr.Textbox(label="Save Status")

    # Connect the UI components to the backend functions
    upload_button.click(process_upload, inputs=[file_input], outputs=[upload_output])
    demo_button.click(load_demo, inputs=[], outputs=[upload_output, plan_output, topic_dropdown])
    generate_button.click(generate_plan, inputs=[days_input], outputs=[plan_output, topic_dropdown])
    questions_button.click(generate_questions, inputs=[topic_dropdown, questions_count], outputs=[plan_output])
    email_setup_button.click(setup_email, inputs=[email_input, password_input], outputs=[email_status])
    register_button.click(register_user, inputs=[name_input, user_email_input, timezone_input], outputs=[register_status])
    schedule_button.click(schedule_email, inputs=[], outputs=[schedule_status])
    send_now_button.click(send_immediate_email, inputs=[recipient_input], outputs=[send_status])
    save_drive_button.click(save_to_google_drive, inputs=[], outputs=[drive_status])

# Launch the app
print("Starting the Gradio interface...")
app.launch(debug=True, share=True)

# Shutdown the scheduler when done
def shutdown():
    global SCHEDULER
    if SCHEDULER:
        SCHEDULER.shutdown()
        print("Scheduler shutdown.")

# Register the shutdown function to be called when Colab stops
output.register_callback("notebook-kernel-cleanup", shutdown)

print(" AI Study Plan Generator is now running!")
print(" Note: If you're ending this session, make sure to click 'Interrupt execution' to properly shut down the scheduler.")
